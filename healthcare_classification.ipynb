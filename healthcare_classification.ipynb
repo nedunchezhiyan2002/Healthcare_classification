{
 "cells": [
  {
   "cell_type": "code",
   "execution_count": 82,
   "id": "f0c0304b",
   "metadata": {},
   "outputs": [
    {
     "name": "stdout",
     "output_type": "stream",
     "text": [
      "Requirement already satisfied: split-folders[full] in c:\\users\\admin\\anaconda3\\lib\\site-packages (0.5.1)Note: you may need to restart the kernel to use updated packages.\n",
      "\n",
      "Requirement already satisfied: tqdm in c:\\users\\admin\\anaconda3\\lib\\site-packages (from split-folders[full]) (4.62.3)\n",
      "Requirement already satisfied: colorama in c:\\users\\admin\\anaconda3\\lib\\site-packages (from tqdm->split-folders[full]) (0.4.4)\n"
     ]
    }
   ],
   "source": [
    "pip install split-folders[full]"
   ]
  },
  {
   "cell_type": "code",
   "execution_count": 99,
   "id": "bf141c89",
   "metadata": {},
   "outputs": [
    {
     "name": "stderr",
     "output_type": "stream",
     "text": [
      "Copying files: 101 files [00:00, 280.33 files/s]\n"
     ]
    }
   ],
   "source": [
    "import splitfolders\n",
    "input_folder = \"C:\\\\Users\\\\Admin\\\\Downloads\\\\Healthcare-images-classification-20221006T055456Z-001\\\\Healthcare-images-classification\"\n",
    "splitfolders.ratio(input_folder, output=\"dataset\", \n",
    "                   seed=42, ratio=(.6, .3, .1), \n",
    "                   group_prefix=None)\n"
   ]
  },
  {
   "cell_type": "code",
   "execution_count": 100,
   "id": "1282892b",
   "metadata": {},
   "outputs": [],
   "source": [
    "import tensorflow as tf\n",
    "from keras.preprocessing.image import ImageDataGenerator"
   ]
  },
  {
   "cell_type": "code",
   "execution_count": 101,
   "id": "08282e8d",
   "metadata": {},
   "outputs": [
    {
     "name": "stdout",
     "output_type": "stream",
     "text": [
      "Found 69 images belonging to 4 classes.\n"
     ]
    }
   ],
   "source": [
    "train_datagen = ImageDataGenerator(rescale = 1./255,\n",
    "                                   shear_range = 0.2,\n",
    "                                   zoom_range = 0.2,\n",
    "                                   horizontal_flip = True)\n",
    "training_set = train_datagen.flow_from_directory(\"C:\\\\Users\\\\Admin\\\\dataset\\\\train\",\n",
    "                                                 target_size = (64, 64),\n",
    "                                                 batch_size = 1,\n",
    "                                                 class_mode = 'categorical')"
   ]
  },
  {
   "cell_type": "code",
   "execution_count": 102,
   "id": "f10a62f0",
   "metadata": {},
   "outputs": [
    {
     "name": "stdout",
     "output_type": "stream",
     "text": [
      "Found 39 images belonging to 4 classes.\n"
     ]
    }
   ],
   "source": [
    "test_datagen = ImageDataGenerator(rescale = 1./255)\n",
    "test_set = test_datagen.flow_from_directory(\"C:\\\\Users\\\\Admin\\\\dataset\\\\val\",\n",
    "                                            target_size = (64, 64),\n",
    "                                            batch_size = 1,\n",
    "                                            class_mode = 'categorical')"
   ]
  },
  {
   "cell_type": "code",
   "execution_count": 103,
   "id": "901c9690",
   "metadata": {},
   "outputs": [
    {
     "data": {
      "text/plain": [
       "<keras.preprocessing.image.DirectoryIterator at 0x1b7cf9901c0>"
      ]
     },
     "execution_count": 103,
     "metadata": {},
     "output_type": "execute_result"
    }
   ],
   "source": [
    "test_set\n"
   ]
  },
  {
   "cell_type": "code",
   "execution_count": 104,
   "id": "ae2a194b",
   "metadata": {},
   "outputs": [
    {
     "name": "stdout",
     "output_type": "stream",
     "text": [
      "Model: \"sequential_10\"\n",
      "_________________________________________________________________\n",
      " Layer (type)                Output Shape              Param #   \n",
      "=================================================================\n",
      " conv2d_36 (Conv2D)          (None, 62, 62, 64)        1792      \n",
      "                                                                 \n",
      " max_pooling2d_36 (MaxPoolin  (None, 31, 31, 64)       0         \n",
      " g2D)                                                            \n",
      "                                                                 \n",
      " conv2d_37 (Conv2D)          (None, 29, 29, 64)        36928     \n",
      "                                                                 \n",
      " max_pooling2d_37 (MaxPoolin  (None, 14, 14, 64)       0         \n",
      " g2D)                                                            \n",
      "                                                                 \n",
      " conv2d_38 (Conv2D)          (None, 12, 12, 128)       73856     \n",
      "                                                                 \n",
      " max_pooling2d_38 (MaxPoolin  (None, 6, 6, 128)        0         \n",
      " g2D)                                                            \n",
      "                                                                 \n",
      " conv2d_39 (Conv2D)          (None, 4, 4, 128)         147584    \n",
      "                                                                 \n",
      " max_pooling2d_39 (MaxPoolin  (None, 2, 2, 128)        0         \n",
      " g2D)                                                            \n",
      "                                                                 \n",
      " flatten_9 (Flatten)         (None, 512)               0         \n",
      "                                                                 \n",
      " dropout_9 (Dropout)         (None, 512)               0         \n",
      "                                                                 \n",
      " dense_20 (Dense)            (None, 512)               262656    \n",
      "                                                                 \n",
      " dense_21 (Dense)            (None, 4)                 2052      \n",
      "                                                                 \n",
      "=================================================================\n",
      "Total params: 524,868\n",
      "Trainable params: 524,868\n",
      "Non-trainable params: 0\n",
      "_________________________________________________________________\n"
     ]
    }
   ],
   "source": [
    "import tensorflow as tf\n",
    "\n",
    "model = tf.keras.models.Sequential([\n",
    "    # Note the input shape is the desired size of the image 150x150 with 3 bytes color\n",
    "    # This is the first convolution\n",
    "    tf.keras.layers.Conv2D(64, (3,3), activation='relu', input_shape=(64, 64, 3)),\n",
    "    tf.keras.layers.MaxPooling2D(2, 2),\n",
    "    # The second convolution\n",
    "    tf.keras.layers.Conv2D(64, (3,3), activation='relu'),\n",
    "    tf.keras.layers.MaxPooling2D(2,2),\n",
    "    # The third convolution\n",
    "    tf.keras.layers.Conv2D(128, (3,3), activation='relu'),\n",
    "    tf.keras.layers.MaxPooling2D(2,2),\n",
    "    # The fourth convolution\n",
    "    tf.keras.layers.Conv2D(128, (3,3), activation='relu'),\n",
    "    tf.keras.layers.MaxPooling2D(2,2),\n",
    "    # Flatten the results to feed into a DNN\n",
    "    tf.keras.layers.Flatten(),\n",
    "    tf.keras.layers.Dropout(0.5),\n",
    "    # 512 neuron hidden layer\n",
    "    tf.keras.layers.Dense(512, activation='relu'),\n",
    "    tf.keras.layers.Dense(4, activation='softmax'),\n",
    "    \n",
    "])\n",
    "\n",
    "# Print the model summary\n",
    "model.summary()"
   ]
  },
  {
   "cell_type": "code",
   "execution_count": 105,
   "id": "2102165c",
   "metadata": {},
   "outputs": [],
   "source": [
    "model.compile(loss = 'categorical_crossentropy', optimizer='rmsprop', metrics=['accuracy'])"
   ]
  },
  {
   "cell_type": "code",
   "execution_count": 108,
   "id": "e2f78344",
   "metadata": {},
   "outputs": [
    {
     "name": "stdout",
     "output_type": "stream",
     "text": [
      "Epoch 1/40\n",
      "20/20 [==============================] - 1s 67ms/step - loss: 0.8265 - accuracy: 0.7000 - val_loss: 0.0117 - val_accuracy: 1.0000\n",
      "Epoch 2/40\n",
      "20/20 [==============================] - 1s 63ms/step - loss: 0.6851 - accuracy: 0.9500 - val_loss: 1.1166e-05 - val_accuracy: 1.0000\n",
      "Epoch 3/40\n",
      "20/20 [==============================] - 1s 63ms/step - loss: 4.7341 - accuracy: 0.8500 - val_loss: 0.1574 - val_accuracy: 1.0000\n",
      "Epoch 4/40\n",
      "20/20 [==============================] - 1s 61ms/step - loss: 0.7165 - accuracy: 0.8000 - val_loss: 0.7577 - val_accuracy: 0.6667\n",
      "Epoch 5/40\n",
      "20/20 [==============================] - 1s 60ms/step - loss: 1.4196 - accuracy: 0.7500 - val_loss: 0.1773 - val_accuracy: 1.0000\n",
      "Epoch 6/40\n",
      "20/20 [==============================] - 1s 58ms/step - loss: 0.7219 - accuracy: 0.8000 - val_loss: 0.0017 - val_accuracy: 1.0000\n",
      "Epoch 7/40\n",
      "20/20 [==============================] - 1s 74ms/step - loss: 1.8664 - accuracy: 0.7000 - val_loss: 0.7479 - val_accuracy: 0.6667\n",
      "Epoch 8/40\n",
      "20/20 [==============================] - 1s 64ms/step - loss: 0.8965 - accuracy: 0.6500 - val_loss: 2.4448 - val_accuracy: 0.6667\n",
      "Epoch 9/40\n",
      "20/20 [==============================] - 1s 71ms/step - loss: 0.8556 - accuracy: 0.7500 - val_loss: 0.8637 - val_accuracy: 0.6667\n",
      "Epoch 10/40\n",
      "20/20 [==============================] - 1s 65ms/step - loss: 0.9490 - accuracy: 0.8500 - val_loss: 0.7383 - val_accuracy: 0.6667\n",
      "Epoch 11/40\n",
      "20/20 [==============================] - 1s 63ms/step - loss: 0.9556 - accuracy: 0.7500 - val_loss: 4.6618 - val_accuracy: 0.3333\n",
      "Epoch 12/40\n",
      "20/20 [==============================] - 1s 67ms/step - loss: 0.7122 - accuracy: 0.8500 - val_loss: 6.0774e-04 - val_accuracy: 1.0000\n",
      "Epoch 13/40\n",
      "20/20 [==============================] - 1s 71ms/step - loss: 0.8674 - accuracy: 0.7500 - val_loss: 3.3512 - val_accuracy: 0.3333\n",
      "Epoch 14/40\n",
      "20/20 [==============================] - 1s 63ms/step - loss: 0.5412 - accuracy: 0.8000 - val_loss: 0.0767 - val_accuracy: 1.0000\n",
      "Epoch 15/40\n",
      "20/20 [==============================] - 1s 62ms/step - loss: 1.2872 - accuracy: 0.7500 - val_loss: 4.0442 - val_accuracy: 0.6667\n",
      "Epoch 16/40\n",
      "20/20 [==============================] - 1s 65ms/step - loss: 1.0160 - accuracy: 0.7500 - val_loss: 5.7263 - val_accuracy: 0.6667\n",
      "Epoch 17/40\n",
      "20/20 [==============================] - 1s 67ms/step - loss: 0.5959 - accuracy: 0.7500 - val_loss: 1.0097 - val_accuracy: 0.6667\n",
      "Epoch 18/40\n",
      "20/20 [==============================] - 1s 65ms/step - loss: 0.5471 - accuracy: 0.8500 - val_loss: 0.0101 - val_accuracy: 1.0000\n",
      "Epoch 19/40\n",
      "20/20 [==============================] - 1s 62ms/step - loss: 1.1878 - accuracy: 0.7000 - val_loss: 0.0161 - val_accuracy: 1.0000\n",
      "Epoch 20/40\n",
      "20/20 [==============================] - 1s 60ms/step - loss: 0.6545 - accuracy: 0.7500 - val_loss: 1.5895e-07 - val_accuracy: 1.0000\n",
      "Epoch 21/40\n",
      "20/20 [==============================] - 1s 62ms/step - loss: 0.7146 - accuracy: 0.7500 - val_loss: 1.1097 - val_accuracy: 0.6667\n",
      "Epoch 22/40\n",
      "20/20 [==============================] - 1s 61ms/step - loss: 1.0218 - accuracy: 0.7000 - val_loss: 1.6433 - val_accuracy: 0.0000e+00\n",
      "Epoch 23/40\n",
      "20/20 [==============================] - 1s 62ms/step - loss: 0.5649 - accuracy: 0.7000 - val_loss: 3.4571e-06 - val_accuracy: 1.0000\n",
      "Epoch 24/40\n",
      "20/20 [==============================] - 1s 70ms/step - loss: 1.3082 - accuracy: 0.7000 - val_loss: 0.1220 - val_accuracy: 1.0000\n",
      "Epoch 25/40\n",
      "20/20 [==============================] - 1s 65ms/step - loss: 0.7367 - accuracy: 0.8000 - val_loss: 1.2423 - val_accuracy: 0.3333\n",
      "Epoch 26/40\n",
      "20/20 [==============================] - 1s 66ms/step - loss: 0.7928 - accuracy: 0.8500 - val_loss: 0.0715 - val_accuracy: 1.0000\n",
      "Epoch 27/40\n",
      "20/20 [==============================] - 1s 64ms/step - loss: 1.3369 - accuracy: 0.6500 - val_loss: 0.1028 - val_accuracy: 1.0000\n",
      "Epoch 28/40\n",
      "20/20 [==============================] - 1s 64ms/step - loss: 0.6136 - accuracy: 0.9000 - val_loss: 1.2781e-04 - val_accuracy: 1.0000\n",
      "Epoch 29/40\n",
      "20/20 [==============================] - 1s 71ms/step - loss: 2.5318 - accuracy: 0.7500 - val_loss: 5.2782 - val_accuracy: 0.6667\n",
      "Epoch 30/40\n",
      "20/20 [==============================] - 1s 61ms/step - loss: 1.0579 - accuracy: 0.8500 - val_loss: 0.6175 - val_accuracy: 1.0000\n",
      "Epoch 31/40\n",
      "20/20 [==============================] - 1s 59ms/step - loss: 0.8927 - accuracy: 0.6000 - val_loss: 5.7038 - val_accuracy: 0.3333\n",
      "Epoch 32/40\n",
      "20/20 [==============================] - 1s 58ms/step - loss: 0.7685 - accuracy: 0.8000 - val_loss: 6.0158e-05 - val_accuracy: 1.0000\n",
      "Epoch 33/40\n",
      "20/20 [==============================] - 1s 65ms/step - loss: 1.2850 - accuracy: 0.6500 - val_loss: 0.6881 - val_accuracy: 1.0000\n",
      "Epoch 34/40\n",
      "20/20 [==============================] - 1s 64ms/step - loss: 0.7087 - accuracy: 0.7000 - val_loss: 1.0383 - val_accuracy: 0.6667\n",
      "Epoch 35/40\n",
      "20/20 [==============================] - 1s 64ms/step - loss: 0.5568 - accuracy: 0.8500 - val_loss: 0.1486 - val_accuracy: 1.0000\n",
      "Epoch 36/40\n",
      "20/20 [==============================] - 1s 64ms/step - loss: 1.9710 - accuracy: 0.8000 - val_loss: 0.5619 - val_accuracy: 0.6667\n",
      "Epoch 37/40\n",
      "20/20 [==============================] - 1s 70ms/step - loss: 0.1207 - accuracy: 0.9500 - val_loss: 0.0000e+00 - val_accuracy: 1.0000\n",
      "Epoch 38/40\n",
      "20/20 [==============================] - 1s 69ms/step - loss: 1.0214 - accuracy: 0.8000 - val_loss: 1.5895e-07 - val_accuracy: 1.0000\n",
      "Epoch 39/40\n",
      "20/20 [==============================] - 1s 63ms/step - loss: 3.2358 - accuracy: 0.7500 - val_loss: 3.5411 - val_accuracy: 0.6667\n",
      "Epoch 40/40\n",
      "20/20 [==============================] - 1s 60ms/step - loss: 0.5620 - accuracy: 0.7500 - val_loss: 2.7190 - val_accuracy: 0.6667\n"
     ]
    }
   ],
   "source": [
    "history = model.fit(training_set, epochs=40, steps_per_epoch=20, validation_data = test_set, verbose = 1, validation_steps=3)"
   ]
  },
  {
   "cell_type": "code",
   "execution_count": 110,
   "id": "92ae8ed3",
   "metadata": {},
   "outputs": [
    {
     "data": {
      "image/png": "[encoded data removed]",
      "text/plain": [
       "<Figure size 432x288 with 1 Axes>"
      ]
     },
     "metadata": {
      "needs_background": "light"
     },
     "output_type": "display_data"
    },
    {
     "data": {
      "text/plain": [
       "<Figure size 432x288 with 0 Axes>"
      ]
     },
     "metadata": {},
     "output_type": "display_data"
    }
   ],
   "source": [
    "import matplotlib.pyplot as plt\n",
    "\n",
    "# Plot the results\n",
    "acc = history.history['accuracy']\n",
    "val_acc = history.history['val_accuracy']\n",
    "loss = history.history['loss']\n",
    "val_loss = history.history['val_loss']\n",
    "\n",
    "epochs = range(len(acc))\n",
    "\n",
    "plt.plot(epochs, acc, 'r', label='Training accuracy')\n",
    "plt.plot(epochs, val_acc, 'b', label='Validation accuracy')\n",
    "plt.title('Training and validation accuracy')\n",
    "plt.legend(loc=0)\n",
    "plt.figure()\n",
    "\n",
    "plt.show()"
   ]
  },
  {
   "cell_type": "code",
   "execution_count": 113,
   "id": "650b9c4c",
   "metadata": {},
   "outputs": [
    {
     "name": "stdout",
     "output_type": "stream",
     "text": [
      "1/1 [==============================] - 0s 16ms/step\n",
      "Report\n"
     ]
    }
   ],
   "source": [
    "import numpy as np\n",
    "\n",
    "from tensorflow.keras.utils import load_img, img_to_array\n",
    "img = load_img(\"C:\\\\Users\\\\Admin\\\\dataset\\\\test\\\\Report\\\\image23.jpeg\", target_size=(64, 64))\n",
    "x = img_to_array(img)\n",
    "x = np.expand_dims(x, axis=0)\n",
    "images = np.vstack([x])\n",
    "classes = model.predict(images, batch_size=1)\n",
    "if classes[0][0]==1:\n",
    "    print('BCG')\n",
    "if classes[0][1]==1:\n",
    "    print('Prescription')\n",
    "if classes[0][2]==1:\n",
    "    print('Report')\n",
    "else:\n",
    "    print('X-Ray')"
   ]
  },
  {
   "cell_type": "code",
   "execution_count": null,
   "id": "aec7c711",
   "metadata": {},
   "outputs": [],
   "source": []
  }
 ],
 "metadata": {
  "kernelspec": {
   "display_name": "Python 3 (ipykernel)",
   "language": "python",
   "name": "python3"
  },
  "language_info": {
   "codemirror_mode": {
    "name": "ipython",
    "version": 3
   },
   "file_extension": ".py",
   "mimetype": "text/x-python",
   "name": "python",
   "nbconvert_exporter": "python",
   "pygments_lexer": "ipython3",
   "version": "3.9.7"
  }
 },
 "nbformat": 4,
 "nbformat_minor": 5
}

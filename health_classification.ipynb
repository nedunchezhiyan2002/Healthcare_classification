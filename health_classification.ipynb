{
 "cells": [
  {
   "cell_type": "code",
   "execution_count": 114,
   "id": "f0c0304b",
   "metadata": {},
   "outputs": [
    {
     "name": "stdout",
     "output_type": "stream",
     "text": [
      "Requirement already satisfied: split-folders[full] in c:\\users\\admin\\anaconda3\\lib\\site-packages (0.5.1)Note: you may need to restart the kernel to use updated packages.\n",
      "\n",
      "Requirement already satisfied: tqdm in c:\\users\\admin\\anaconda3\\lib\\site-packages (from split-folders[full]) (4.62.3)\n",
      "Requirement already satisfied: colorama in c:\\users\\admin\\anaconda3\\lib\\site-packages (from tqdm->split-folders[full]) (0.4.4)\n"
     ]
    }
   ],
   "source": [
    "pip install split-folders[full]"
   ]
  },
  {
   "cell_type": "code",
   "execution_count": 115,
   "id": "bf141c89",
   "metadata": {},
   "outputs": [
    {
     "name": "stderr",
     "output_type": "stream",
     "text": [
      "Copying files: 101 files [00:00, 241.93 files/s]\n"
     ]
    }
   ],
   "source": [
    "import splitfolders\n",
    "input_folder = \"C:\\\\Users\\\\Admin\\\\Downloads\\\\Healthcare-images-classification-20221006T055456Z-001\\\\Healthcare-images-classification\"\n",
    "splitfolders.ratio(input_folder, output=\"dataset\", \n",
    "                   seed=42, ratio=(.6, .3, .1), \n",
    "                   group_prefix=None)\n"
   ]
  },
  {
   "cell_type": "code",
   "execution_count": 116,
   "id": "1282892b",
   "metadata": {},
   "outputs": [],
   "source": [
    "import tensorflow as tf\n",
    "from keras.preprocessing.image import ImageDataGenerator"
   ]
  },
  {
   "cell_type": "code",
   "execution_count": 117,
   "id": "08282e8d",
   "metadata": {},
   "outputs": [
    {
     "name": "stdout",
     "output_type": "stream",
     "text": [
      "Found 69 images belonging to 4 classes.\n"
     ]
    }
   ],
   "source": [
    "train_datagen = ImageDataGenerator(rescale = 1./255,\n",
    "                                   shear_range = 0.2,\n",
    "                                   zoom_range = 0.2,\n",
    "                                   horizontal_flip = True)\n",
    "training_set = train_datagen.flow_from_directory(\"C:\\\\Users\\\\Admin\\\\dataset\\\\train\",\n",
    "                                                 target_size = (64, 64),\n",
    "                                                 batch_size = 1,\n",
    "                                                 class_mode = 'categorical')"
   ]
  },
  {
   "cell_type": "code",
   "execution_count": 118,
   "id": "f10a62f0",
   "metadata": {},
   "outputs": [
    {
     "name": "stdout",
     "output_type": "stream",
     "text": [
      "Found 39 images belonging to 4 classes.\n"
     ]
    }
   ],
   "source": [
    "val_datagen = ImageDataGenerator(rescale = 1./255)\n",
    "val_set = val_datagen.flow_from_directory(\"C:\\\\Users\\\\Admin\\\\dataset\\\\val\",\n",
    "                                            target_size = (64, 64),\n",
    "                                            batch_size = 1,\n",
    "                                            class_mode = 'categorical')"
   ]
  },
  {
   "cell_type": "code",
   "execution_count": 119,
   "id": "ae2a194b",
   "metadata": {},
   "outputs": [
    {
     "name": "stdout",
     "output_type": "stream",
     "text": [
      "Model: \"sequential_11\"\n",
      "_________________________________________________________________\n",
      " Layer (type)                Output Shape              Param #   \n",
      "=================================================================\n",
      " conv2d_40 (Conv2D)          (None, 62, 62, 64)        1792      \n",
      "                                                                 \n",
      " max_pooling2d_40 (MaxPoolin  (None, 31, 31, 64)       0         \n",
      " g2D)                                                            \n",
      "                                                                 \n",
      " conv2d_41 (Conv2D)          (None, 29, 29, 64)        36928     \n",
      "                                                                 \n",
      " max_pooling2d_41 (MaxPoolin  (None, 14, 14, 64)       0         \n",
      " g2D)                                                            \n",
      "                                                                 \n",
      " conv2d_42 (Conv2D)          (None, 12, 12, 128)       73856     \n",
      "                                                                 \n",
      " max_pooling2d_42 (MaxPoolin  (None, 6, 6, 128)        0         \n",
      " g2D)                                                            \n",
      "                                                                 \n",
      " conv2d_43 (Conv2D)          (None, 4, 4, 128)         147584    \n",
      "                                                                 \n",
      " max_pooling2d_43 (MaxPoolin  (None, 2, 2, 128)        0         \n",
      " g2D)                                                            \n",
      "                                                                 \n",
      " flatten_10 (Flatten)        (None, 512)               0         \n",
      "                                                                 \n",
      " dropout_10 (Dropout)        (None, 512)               0         \n",
      "                                                                 \n",
      " dense_22 (Dense)            (None, 512)               262656    \n",
      "                                                                 \n",
      " dense_23 (Dense)            (None, 4)                 2052      \n",
      "                                                                 \n",
      "=================================================================\n",
      "Total params: 524,868\n",
      "Trainable params: 524,868\n",
      "Non-trainable params: 0\n",
      "_________________________________________________________________\n"
     ]
    }
   ],
   "source": [
    "import tensorflow as tf\n",
    "\n",
    "model = tf.keras.models.Sequential([\n",
    "    # This is the first convolution\n",
    "    tf.keras.layers.Conv2D(64, (3,3), activation='relu', input_shape=(64, 64, 3)),\n",
    "    tf.keras.layers.MaxPooling2D(2, 2),\n",
    "    # The second convolution\n",
    "    tf.keras.layers.Conv2D(64, (3,3), activation='relu'),\n",
    "    tf.keras.layers.MaxPooling2D(2,2),\n",
    "    # The third convolution\n",
    "    tf.keras.layers.Conv2D(128, (3,3), activation='relu'),\n",
    "    tf.keras.layers.MaxPooling2D(2,2),\n",
    "    # The fourth convolution\n",
    "    tf.keras.layers.Conv2D(128, (3,3), activation='relu'),\n",
    "    tf.keras.layers.MaxPooling2D(2,2),\n",
    "    # Flatten the results to feed into a DNN\n",
    "    tf.keras.layers.Flatten(),\n",
    "    tf.keras.layers.Dropout(0.5),\n",
    "    # 512 neuron hidden layer\n",
    "    tf.keras.layers.Dense(512, activation='relu'),\n",
    "    tf.keras.layers.Dense(4, activation='softmax'),\n",
    "    \n",
    "])\n",
    "\n",
    "# Print the model summary\n",
    "model.summary()"
   ]
  },
  {
   "cell_type": "code",
   "execution_count": 120,
   "id": "2102165c",
   "metadata": {},
   "outputs": [],
   "source": [
    "model.compile(loss = 'categorical_crossentropy', optimizer='rmsprop', metrics=['accuracy'])"
   ]
  },
  {
   "cell_type": "code",
   "execution_count": 127,
   "id": "e2f78344",
   "metadata": {},
   "outputs": [
    {
     "name": "stdout",
     "output_type": "stream",
     "text": [
      "Epoch 1/40\n",
      "69/69 [==============================] - 4s 58ms/step - loss: 0.7691 - accuracy: 0.8696 - val_loss: 7.3445 - val_accuracy: 0.7692\n",
      "Epoch 2/40\n",
      "69/69 [==============================] - 4s 63ms/step - loss: 1.2022 - accuracy: 0.8551 - val_loss: 21.9099 - val_accuracy: 0.8462\n",
      "Epoch 3/40\n",
      "69/69 [==============================] - 4s 61ms/step - loss: 0.6071 - accuracy: 0.8696 - val_loss: 29.8758 - val_accuracy: 0.8462\n",
      "Epoch 4/40\n",
      "69/69 [==============================] - 4s 61ms/step - loss: 1.2431 - accuracy: 0.8551 - val_loss: 7.0709 - val_accuracy: 0.8462\n",
      "Epoch 5/40\n",
      "69/69 [==============================] - 4s 60ms/step - loss: 1.0698 - accuracy: 0.8551 - val_loss: 30.2071 - val_accuracy: 0.8462\n",
      "Epoch 6/40\n",
      "69/69 [==============================] - 4s 56ms/step - loss: 3.8398 - accuracy: 0.8116 - val_loss: 12.1692 - val_accuracy: 0.8462\n",
      "Epoch 7/40\n",
      "69/69 [==============================] - 4s 59ms/step - loss: 0.9848 - accuracy: 0.8551 - val_loss: 4.9761 - val_accuracy: 0.8462\n",
      "Epoch 8/40\n",
      "69/69 [==============================] - 4s 61ms/step - loss: 0.8219 - accuracy: 0.8406 - val_loss: 12.4895 - val_accuracy: 0.8462\n",
      "Epoch 9/40\n",
      "69/69 [==============================] - 4s 60ms/step - loss: 0.5312 - accuracy: 0.8551 - val_loss: 14.9285 - val_accuracy: 0.8205\n",
      "Epoch 10/40\n",
      "69/69 [==============================] - 4s 60ms/step - loss: 0.5871 - accuracy: 0.8841 - val_loss: 7.8071 - val_accuracy: 0.8462\n",
      "Epoch 11/40\n",
      "69/69 [==============================] - 4s 60ms/step - loss: 0.7343 - accuracy: 0.8406 - val_loss: 8.5311 - val_accuracy: 0.8462\n",
      "Epoch 12/40\n",
      "69/69 [==============================] - 4s 60ms/step - loss: 0.8134 - accuracy: 0.8261 - val_loss: 6.4449 - val_accuracy: 0.8462\n",
      "Epoch 13/40\n",
      "69/69 [==============================] - 4s 60ms/step - loss: 0.6963 - accuracy: 0.8551 - val_loss: 16.8866 - val_accuracy: 0.8462\n",
      "Epoch 14/40\n",
      "69/69 [==============================] - 5s 66ms/step - loss: 0.9384 - accuracy: 0.8696 - val_loss: 13.1299 - val_accuracy: 0.8205\n",
      "Epoch 15/40\n",
      "69/69 [==============================] - 4s 63ms/step - loss: 0.7867 - accuracy: 0.8406 - val_loss: 35.9022 - val_accuracy: 0.8462\n",
      "Epoch 16/40\n",
      "69/69 [==============================] - 4s 60ms/step - loss: 0.7019 - accuracy: 0.8406 - val_loss: 23.1977 - val_accuracy: 0.8462\n",
      "Epoch 17/40\n",
      "69/69 [==============================] - 5s 66ms/step - loss: 0.7711 - accuracy: 0.8406 - val_loss: 13.4170 - val_accuracy: 0.8462\n",
      "Epoch 18/40\n",
      "69/69 [==============================] - 4s 63ms/step - loss: 0.8430 - accuracy: 0.8551 - val_loss: 8.2838 - val_accuracy: 0.8462\n",
      "Epoch 19/40\n",
      "69/69 [==============================] - 5s 71ms/step - loss: 0.6204 - accuracy: 0.8551 - val_loss: 7.9180 - val_accuracy: 0.8462\n",
      "Epoch 20/40\n",
      "69/69 [==============================] - 5s 68ms/step - loss: 0.6823 - accuracy: 0.8696 - val_loss: 3.5988 - val_accuracy: 0.8462\n",
      "Epoch 21/40\n",
      "69/69 [==============================] - 4s 64ms/step - loss: 1.1403 - accuracy: 0.8261 - val_loss: 16.9293 - val_accuracy: 0.8462\n",
      "Epoch 22/40\n",
      "69/69 [==============================] - 4s 63ms/step - loss: 1.2536 - accuracy: 0.8551 - val_loss: 78.6577 - val_accuracy: 0.8462\n",
      "Epoch 23/40\n",
      "69/69 [==============================] - 4s 60ms/step - loss: 2.0047 - accuracy: 0.8696 - val_loss: 19.4676 - val_accuracy: 0.8462\n",
      "Epoch 24/40\n",
      "69/69 [==============================] - 4s 62ms/step - loss: 1.5108 - accuracy: 0.8406 - val_loss: 36.3282 - val_accuracy: 0.8462\n",
      "Epoch 25/40\n",
      "69/69 [==============================] - 4s 63ms/step - loss: 3.5695 - accuracy: 0.8406 - val_loss: 8.5313 - val_accuracy: 0.8462\n",
      "Epoch 26/40\n",
      "69/69 [==============================] - 4s 63ms/step - loss: 0.7920 - accuracy: 0.8551 - val_loss: 22.2594 - val_accuracy: 0.8462\n",
      "Epoch 27/40\n",
      "69/69 [==============================] - 4s 61ms/step - loss: 2.4273 - accuracy: 0.8841 - val_loss: 13.6767 - val_accuracy: 0.8462\n",
      "Epoch 28/40\n",
      "69/69 [==============================] - 5s 66ms/step - loss: 0.7753 - accuracy: 0.8261 - val_loss: 9.3828 - val_accuracy: 0.8462\n",
      "Epoch 29/40\n",
      "69/69 [==============================] - 5s 71ms/step - loss: 1.5990 - accuracy: 0.8696 - val_loss: 17.1519 - val_accuracy: 0.8462\n",
      "Epoch 30/40\n",
      "69/69 [==============================] - 4s 64ms/step - loss: 0.5663 - accuracy: 0.8696 - val_loss: 43.0233 - val_accuracy: 0.8462\n",
      "Epoch 31/40\n",
      "69/69 [==============================] - 4s 63ms/step - loss: 1.2918 - accuracy: 0.8696 - val_loss: 18.7106 - val_accuracy: 0.8462\n",
      "Epoch 32/40\n",
      "69/69 [==============================] - 4s 61ms/step - loss: 1.5914 - accuracy: 0.8406 - val_loss: 10.2741 - val_accuracy: 0.8462\n",
      "Epoch 33/40\n",
      "69/69 [==============================] - 4s 64ms/step - loss: 1.1504 - accuracy: 0.8116 - val_loss: 12.3171 - val_accuracy: 0.8462\n",
      "Epoch 34/40\n",
      "69/69 [==============================] - 4s 64ms/step - loss: 0.6656 - accuracy: 0.8406 - val_loss: 17.8679 - val_accuracy: 0.8462\n",
      "Epoch 35/40\n",
      "69/69 [==============================] - 4s 65ms/step - loss: 1.3925 - accuracy: 0.8551 - val_loss: 2.7199 - val_accuracy: 0.8205\n",
      "Epoch 36/40\n",
      "69/69 [==============================] - 4s 61ms/step - loss: 0.7055 - accuracy: 0.8551 - val_loss: 75.8256 - val_accuracy: 0.8462\n",
      "Epoch 37/40\n",
      "69/69 [==============================] - 4s 62ms/step - loss: 0.9207 - accuracy: 0.8406 - val_loss: 9.6891 - val_accuracy: 0.8462\n",
      "Epoch 38/40\n",
      "69/69 [==============================] - 4s 63ms/step - loss: 0.6493 - accuracy: 0.8696 - val_loss: 11.1504 - val_accuracy: 0.8462\n",
      "Epoch 39/40\n",
      "69/69 [==============================] - 4s 62ms/step - loss: 0.5774 - accuracy: 0.8551 - val_loss: 15.4214 - val_accuracy: 0.8462\n",
      "Epoch 40/40\n",
      "69/69 [==============================] - 4s 60ms/step - loss: 0.9523 - accuracy: 0.8551 - val_loss: 39.6498 - val_accuracy: 0.8462\n"
     ]
    }
   ],
   "source": [
    "history = model.fit(training_set, epochs=40, validation_data = val_set)"
   ]
  },
  {
   "cell_type": "code",
   "execution_count": 128,
   "id": "92ae8ed3",
   "metadata": {},
   "outputs": [
    {
     "data": {
      "image/png": "[encoded data removed]",
      "text/plain": [
       "<Figure size 432x288 with 1 Axes>"
      ]
     },
     "metadata": {
      "needs_background": "light"
     },
     "output_type": "display_data"
    },
    {
     "data": {
      "text/plain": [
       "<Figure size 432x288 with 0 Axes>"
      ]
     },
     "metadata": {},
     "output_type": "display_data"
    }
   ],
   "source": [
    "import matplotlib.pyplot as plt\n",
    "\n",
    "# Plot the results\n",
    "acc = history.history['accuracy']\n",
    "val_acc = history.history['val_accuracy']\n",
    "loss = history.history['loss']\n",
    "val_loss = history.history['val_loss']\n",
    "\n",
    "epochs = range(len(acc))\n",
    "\n",
    "plt.plot(epochs, acc, 'r', label='Training accuracy')\n",
    "plt.plot(epochs, val_acc, 'b', label='Validation accuracy')\n",
    "plt.title('Training and validation accuracy')\n",
    "plt.legend(loc=0)\n",
    "plt.figure()\n",
    "\n",
    "plt.show()"
   ]
  },
  {
   "cell_type": "code",
   "execution_count": 129,
   "id": "650b9c4c",
   "metadata": {},
   "outputs": [
    {
     "name": "stdout",
     "output_type": "stream",
     "text": [
      "1/1 [==============================] - 0s 16ms/step\n",
      "Report\n"
     ]
    }
   ],
   "source": [
    "import numpy as np\n",
    "\n",
    "from tensorflow.keras.utils import load_img, img_to_array\n",
    "img = load_img(\"C:\\\\Users\\\\Admin\\\\dataset\\\\test\\\\Report\\\\image23.jpeg\", target_size=(64, 64))\n",
    "x = img_to_array(img)\n",
    "x = np.expand_dims(x, axis=0)\n",
    "images = np.vstack([x])\n",
    "classes = model.predict(images, batch_size=1)\n",
    "if classes[0][0]==1:\n",
    "    print('BCG')\n",
    "if classes[0][1]==1:\n",
    "    print('Prescription')\n",
    "if classes[0][2]==1:\n",
    "    print('Report')\n",
    "else:\n",
    "    print('X-Ray')"
   ]
  },
  {
   "cell_type": "code",
   "execution_count": null,
   "id": "aec7c711",
   "metadata": {},
   "outputs": [],
   "source": []
  }
 ],
 "metadata": {
  "kernelspec": {
   "display_name": "Python 3 (ipykernel)",
   "language": "python",
   "name": "python3"
  },
  "language_info": {
   "codemirror_mode": {
    "name": "ipython",
    "version": 3
   },
   "file_extension": ".py",
   "mimetype": "text/x-python",
   "name": "python",
   "nbconvert_exporter": "python",
   "pygments_lexer": "ipython3",
   "version": "3.9.7"
  }
 },
 "nbformat": 4,
 "nbformat_minor": 5
}
